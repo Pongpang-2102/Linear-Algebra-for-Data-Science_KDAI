{
  "nbformat": 4,
  "nbformat_minor": 0,
  "metadata": {
    "colab": {
      "provenance": [],
      "authorship_tag": "ABX9TyOLOI7h7jRLqwlYnvs5/k6Z",
      "include_colab_link": true
    },
    "kernelspec": {
      "name": "python3",
      "display_name": "Python 3"
    },
    "language_info": {
      "name": "python"
    }
  },
  "cells": [
    {
      "cell_type": "markdown",
      "metadata": {
        "id": "view-in-github",
        "colab_type": "text"
      },
      "source": [
        "<a href=\"https://colab.research.google.com/github/Pongpang-2102/Linear-Algebra-for-Data-Science_KDAI-Project/blob/main/ClassLecture_SparseMatrix_Linear_Algebra_Lab_(30_Oct_22).ipynb\" target=\"_parent\"><img src=\"https://colab.research.google.com/assets/colab-badge.svg\" alt=\"Open In Colab\"/></a>"
      ]
    },
    {
      "cell_type": "code",
      "execution_count": null,
      "metadata": {
        "id": "tkoOfOorzfue"
      },
      "outputs": [],
      "source": [
        "# sparse matrix\n",
        "\n",
        "from numpy import array\n",
        "from scipy.sparse import csr_matrix\n",
        "\n"
      ]
    },
    {
      "cell_type": "code",
      "source": [
        "# create dense matrix\n",
        "A = array([ [1,0,0,1,0,0],\n",
        "            [0,0,2,0,0,1],\n",
        "            [0,0,0,2,0,0]  ])"
      ],
      "metadata": {
        "id": "hV8CElW00ZvG"
      },
      "execution_count": null,
      "outputs": []
    },
    {
      "cell_type": "code",
      "source": [
        "print(A)"
      ],
      "metadata": {
        "colab": {
          "base_uri": "https://localhost:8080/"
        },
        "id": "MboHPIGs1D9C",
        "outputId": "42b1af88-071f-475c-9f9d-018722dac0b4"
      },
      "execution_count": null,
      "outputs": [
        {
          "output_type": "stream",
          "name": "stdout",
          "text": [
            "[[1 0 0 1 0 0]\n",
            " [0 0 2 0 0 1]\n",
            " [0 0 0 2 0 0]]\n"
          ]
        }
      ]
    },
    {
      "cell_type": "code",
      "source": [
        "S = csr_matrix(A)\n"
      ],
      "metadata": {
        "id": "9PqarYpp1GSZ"
      },
      "execution_count": null,
      "outputs": []
    },
    {
      "cell_type": "code",
      "source": [
        "print(S)"
      ],
      "metadata": {
        "colab": {
          "base_uri": "https://localhost:8080/"
        },
        "id": "cnPofEse1UOG",
        "outputId": "e5e8fd62-3799-49aa-ad52-a4c6d3ab1ae2"
      },
      "execution_count": null,
      "outputs": [
        {
          "output_type": "stream",
          "name": "stdout",
          "text": [
            "  (0, 0)\t1\n",
            "  (0, 3)\t1\n",
            "  (1, 2)\t2\n",
            "  (1, 5)\t1\n",
            "  (2, 3)\t2\n"
          ]
        }
      ]
    },
    {
      "cell_type": "code",
      "source": [
        "B = S.todense()"
      ],
      "metadata": {
        "id": "2B8_bl_x1XX9"
      },
      "execution_count": null,
      "outputs": []
    },
    {
      "cell_type": "code",
      "source": [
        "print(B)"
      ],
      "metadata": {
        "id": "Ht6XUr9v1gCl",
        "colab": {
          "base_uri": "https://localhost:8080/"
        },
        "outputId": "f325904c-42bc-44ca-ee2f-d4e0bf5cdd0a"
      },
      "execution_count": null,
      "outputs": [
        {
          "output_type": "stream",
          "name": "stdout",
          "text": [
            "[[1 0 0 1 0 0]\n",
            " [0 0 2 0 0 1]\n",
            " [0 0 0 2 0 0]]\n"
          ]
        }
      ]
    },
    {
      "cell_type": "code",
      "source": [
        "import numpy\n",
        "# calculate sparsity\n",
        "sparsity = 1.0 - numpy.count_nonzero(A) / A.size"
      ],
      "metadata": {
        "id": "gOVJNKcK1i6O"
      },
      "execution_count": null,
      "outputs": []
    },
    {
      "cell_type": "code",
      "source": [
        "print(sparsity)"
      ],
      "metadata": {
        "colab": {
          "base_uri": "https://localhost:8080/"
        },
        "id": "aromc9Dz2hZq",
        "outputId": "aef3715b-7fc5-4d3d-d59e-e00d5615fef3"
      },
      "execution_count": null,
      "outputs": [
        {
          "output_type": "stream",
          "name": "stdout",
          "text": [
            "0.7222222222222222\n"
          ]
        }
      ]
    },
    {
      "cell_type": "markdown",
      "source": [
        "## Ordinal Encoder Class"
      ],
      "metadata": {
        "id": "HIZjskPx5BcM"
      }
    },
    {
      "cell_type": "code",
      "source": [
        "from numpy import asarray \n",
        "from sklearn.preprocessing import OrdinalEncoder , OneHotEncoder"
      ],
      "metadata": {
        "id": "ujKVOlsr5Flj"
      },
      "execution_count": null,
      "outputs": []
    },
    {
      "cell_type": "code",
      "source": [
        "# define data\n",
        "data = asarray( [ ['red'],['green'],['blue'] ]  )\n",
        "print (data)"
      ],
      "metadata": {
        "colab": {
          "base_uri": "https://localhost:8080/"
        },
        "id": "ryOspKx_6OY2",
        "outputId": "d87b51e2-35bd-437e-d3a5-c83852304194"
      },
      "execution_count": null,
      "outputs": [
        {
          "output_type": "stream",
          "name": "stdout",
          "text": [
            "[['red']\n",
            " ['green']\n",
            " ['blue']]\n"
          ]
        }
      ]
    },
    {
      "cell_type": "code",
      "source": [
        "# define ordninal encoding \n",
        "encoder = OrdinalEncoder()\n",
        "encoder"
      ],
      "metadata": {
        "id": "0Nh63Cg-6lO1",
        "colab": {
          "base_uri": "https://localhost:8080/"
        },
        "outputId": "7ad42a54-3257-4577-c481-1c1490457dcd"
      },
      "execution_count": null,
      "outputs": [
        {
          "output_type": "execute_result",
          "data": {
            "text/plain": [
              "OrdinalEncoder()"
            ]
          },
          "metadata": {},
          "execution_count": 13
        }
      ]
    },
    {
      "cell_type": "code",
      "source": [
        "# transform data\n",
        "result =  encoder.fit_transform(data)\n",
        "print(result)"
      ],
      "metadata": {
        "colab": {
          "base_uri": "https://localhost:8080/"
        },
        "id": "mz07M4JB6z9U",
        "outputId": "94165189-4b71-4bee-b9e9-53cd0d8c0cac"
      },
      "execution_count": null,
      "outputs": [
        {
          "output_type": "stream",
          "name": "stdout",
          "text": [
            "[[2.]\n",
            " [1.]\n",
            " [0.]]\n"
          ]
        }
      ]
    },
    {
      "cell_type": "markdown",
      "source": [
        "## One-Hot Encoder"
      ],
      "metadata": {
        "id": "v8DI8sWC_BMF"
      }
    },
    {
      "cell_type": "code",
      "source": [
        "# define one hot encoder\n",
        "onehot_encoder = OneHotEncoder(sparse = False)"
      ],
      "metadata": {
        "id": "o_XLJ69t969d"
      },
      "execution_count": null,
      "outputs": []
    },
    {
      "cell_type": "code",
      "source": [
        "# data transformation for one hot encoder\n",
        "# show result for one hot encoder\n",
        "result_v2 = onehot_encoder.fit_transform(data)\n",
        "result_v2"
      ],
      "metadata": {
        "colab": {
          "base_uri": "https://localhost:8080/"
        },
        "id": "rIoaYMCZ-Pft",
        "outputId": "13c08665-43f1-4940-d3bb-a92af0200c3e"
      },
      "execution_count": null,
      "outputs": [
        {
          "output_type": "execute_result",
          "data": {
            "text/plain": [
              "array([[0., 0., 1.],\n",
              "       [0., 1., 0.],\n",
              "       [1., 0., 0.]])"
            ]
          },
          "metadata": {},
          "execution_count": 18
        }
      ]
    },
    {
      "cell_type": "markdown",
      "source": [
        "## Dummy Variable Encoding\n",
        "- from previous example of one-Hot Encoder"
      ],
      "metadata": {
        "id": "V-4lcwkp_G-m"
      }
    },
    {
      "cell_type": "code",
      "source": [
        "# example of a dummy variable encoding\n",
        "from numpy import asarray\n",
        "from sklearn.preprocessing import OneHotEncoder"
      ],
      "metadata": {
        "id": "pjS3goTc-m7U"
      },
      "execution_count": null,
      "outputs": []
    },
    {
      "cell_type": "code",
      "source": [
        "# define data\n",
        "data_new = asarray([['red'],['green'],['blue']])\n",
        "print(data_new)"
      ],
      "metadata": {
        "colab": {
          "base_uri": "https://localhost:8080/"
        },
        "id": "kH9PeOLJ_paX",
        "outputId": "6214a610-821d-4520-c81a-ae39fd6bc440"
      },
      "execution_count": null,
      "outputs": [
        {
          "output_type": "stream",
          "name": "stdout",
          "text": [
            "[['red']\n",
            " ['green']\n",
            " ['blue']]\n"
          ]
        }
      ]
    },
    {
      "cell_type": "code",
      "source": [
        "# define one hot encoding from our existed data\n",
        "encoder_onehot_dummyvar = OneHotEncoder (drop = 'first' , sparse = False)\n",
        "\n",
        "# transform data\n",
        "onehot = encoder_onehot_dummyvar.fit_transform(data_new)\n",
        "print(onehot)"
      ],
      "metadata": {
        "id": "tXrokHGR78J9",
        "colab": {
          "base_uri": "https://localhost:8080/"
        },
        "outputId": "d8794d8f-0347-4f0f-d7d2-e41e65b9c798"
      },
      "execution_count": null,
      "outputs": [
        {
          "output_type": "stream",
          "name": "stdout",
          "text": [
            "[[0. 1.]\n",
            " [1. 0.]\n",
            " [0. 0.]]\n"
          ]
        }
      ]
    },
    {
      "cell_type": "code",
      "source": [
        "!pip list -v"
      ],
      "metadata": {
        "id": "_MX8Fk6aE26i",
        "outputId": "dab24c66-b309-4d15-a255-a836b5419e58",
        "colab": {
          "base_uri": "https://localhost:8080/"
        }
      },
      "execution_count": null,
      "outputs": [
        {
          "output_type": "stream",
          "name": "stdout",
          "text": [
            "Package                       Version                Location                               Installer\n",
            "----------------------------- ---------------------- -------------------------------------- ---------\n",
            "absl-py                       1.3.0                  /usr/local/lib/python3.7/dist-packages pip\n",
            "aeppl                         0.0.33                 /usr/local/lib/python3.7/dist-packages pip\n",
            "aesara                        2.7.9                  /usr/local/lib/python3.7/dist-packages pip\n",
            "aiohttp                       3.8.3                  /usr/local/lib/python3.7/dist-packages pip\n",
            "aiosignal                     1.2.0                  /usr/local/lib/python3.7/dist-packages pip\n",
            "alabaster                     0.7.12                 /usr/local/lib/python3.7/dist-packages pip\n",
            "albumentations                1.2.1                  /usr/local/lib/python3.7/dist-packages pip\n",
            "altair                        4.2.0                  /usr/local/lib/python3.7/dist-packages pip\n",
            "appdirs                       1.4.4                  /usr/local/lib/python3.7/dist-packages pip\n",
            "arviz                         0.12.1                 /usr/local/lib/python3.7/dist-packages pip\n",
            "astor                         0.8.1                  /usr/local/lib/python3.7/dist-packages pip\n",
            "astropy                       4.3.1                  /usr/local/lib/python3.7/dist-packages pip\n",
            "astunparse                    1.6.3                  /usr/local/lib/python3.7/dist-packages pip\n",
            "async-timeout                 4.0.2                  /usr/local/lib/python3.7/dist-packages pip\n",
            "asynctest                     0.13.0                 /usr/local/lib/python3.7/dist-packages pip\n",
            "atari-py                      0.2.9                  /usr/local/lib/python3.7/dist-packages pip\n",
            "atomicwrites                  1.4.1                  /usr/local/lib/python3.7/dist-packages pip\n",
            "attrs                         22.1.0                 /usr/local/lib/python3.7/dist-packages pip\n",
            "audioread                     3.0.0                  /usr/local/lib/python3.7/dist-packages pip\n",
            "autograd                      1.5                    /usr/local/lib/python3.7/dist-packages pip\n",
            "Babel                         2.10.3                 /usr/local/lib/python3.7/dist-packages pip\n",
            "backcall                      0.2.0                  /usr/local/lib/python3.7/dist-packages pip\n",
            "beautifulsoup4                4.6.3                  /usr/local/lib/python3.7/dist-packages pip\n",
            "bleach                        5.0.1                  /usr/local/lib/python3.7/dist-packages pip\n",
            "blis                          0.7.9                  /usr/local/lib/python3.7/dist-packages pip\n",
            "bokeh                         2.3.3                  /usr/local/lib/python3.7/dist-packages pip\n",
            "branca                        0.5.0                  /usr/local/lib/python3.7/dist-packages pip\n",
            "bs4                           0.0.1                  /usr/local/lib/python3.7/dist-packages pip\n",
            "CacheControl                  0.12.11                /usr/local/lib/python3.7/dist-packages pip\n",
            "cached-property               1.5.2                  /usr/local/lib/python3.7/dist-packages pip\n",
            "cachetools                    4.2.4                  /usr/local/lib/python3.7/dist-packages pip\n",
            "catalogue                     2.0.8                  /usr/local/lib/python3.7/dist-packages pip\n",
            "certifi                       2022.9.24              /usr/local/lib/python3.7/dist-packages pip\n",
            "cffi                          1.15.1                 /usr/local/lib/python3.7/dist-packages pip\n",
            "cftime                        1.6.2                  /usr/local/lib/python3.7/dist-packages pip\n",
            "chardet                       3.0.4                  /usr/local/lib/python3.7/dist-packages pip\n",
            "charset-normalizer            2.1.1                  /usr/local/lib/python3.7/dist-packages pip\n",
            "click                         7.1.2                  /usr/local/lib/python3.7/dist-packages pip\n",
            "clikit                        0.6.2                  /usr/local/lib/python3.7/dist-packages pip\n",
            "cloudpickle                   1.5.0                  /usr/local/lib/python3.7/dist-packages pip\n",
            "cmake                         3.22.6                 /usr/local/lib/python3.7/dist-packages pip\n",
            "cmdstanpy                     1.0.7                  /usr/local/lib/python3.7/dist-packages pip\n",
            "colorcet                      3.0.1                  /usr/local/lib/python3.7/dist-packages pip\n",
            "colorlover                    0.3.0                  /usr/local/lib/python3.7/dist-packages pip\n",
            "community                     1.0.0b1                /usr/local/lib/python3.7/dist-packages pip\n",
            "confection                    0.0.3                  /usr/local/lib/python3.7/dist-packages pip\n",
            "cons                          0.4.5                  /usr/local/lib/python3.7/dist-packages pip\n",
            "contextlib2                   0.5.5                  /usr/local/lib/python3.7/dist-packages pip\n",
            "convertdate                   2.4.0                  /usr/local/lib/python3.7/dist-packages pip\n",
            "crashtest                     0.3.1                  /usr/local/lib/python3.7/dist-packages pip\n",
            "crcmod                        1.7                    /usr/local/lib/python3.7/dist-packages pip\n",
            "cufflinks                     0.17.3                 /usr/local/lib/python3.7/dist-packages pip\n",
            "cvxopt                        1.3.0                  /usr/local/lib/python3.7/dist-packages pip\n",
            "cvxpy                         1.2.1                  /usr/local/lib/python3.7/dist-packages pip\n",
            "cycler                        0.11.0                 /usr/local/lib/python3.7/dist-packages pip\n",
            "cymem                         2.0.7                  /usr/local/lib/python3.7/dist-packages pip\n",
            "Cython                        0.29.32                /usr/local/lib/python3.7/dist-packages pip\n",
            "daft                          0.0.4                  /usr/local/lib/python3.7/dist-packages pip\n",
            "dask                          2022.2.0               /usr/local/lib/python3.7/dist-packages pip\n",
            "datascience                   0.17.5                 /usr/local/lib/python3.7/dist-packages pip\n",
            "debugpy                       1.0.0                  /usr/local/lib/python3.7/dist-packages pip\n",
            "decorator                     4.4.2                  /usr/local/lib/python3.7/dist-packages pip\n",
            "defusedxml                    0.7.1                  /usr/local/lib/python3.7/dist-packages pip\n",
            "descartes                     1.1.0                  /usr/local/lib/python3.7/dist-packages pip\n",
            "dill                          0.3.5.1                /usr/local/lib/python3.7/dist-packages pip\n",
            "distributed                   2022.2.0               /usr/local/lib/python3.7/dist-packages pip\n",
            "dlib                          19.24.0                /usr/local/lib/python3.7/dist-packages pip\n",
            "dm-tree                       0.1.7                  /usr/local/lib/python3.7/dist-packages pip\n",
            "dnspython                     2.2.1                  /usr/local/lib/python3.7/dist-packages pip\n",
            "docutils                      0.17.1                 /usr/local/lib/python3.7/dist-packages pip\n",
            "dopamine-rl                   1.0.5                  /usr/local/lib/python3.7/dist-packages pip\n",
            "earthengine-api               0.1.328                /usr/local/lib/python3.7/dist-packages pip\n",
            "easydict                      1.10                   /usr/local/lib/python3.7/dist-packages pip\n",
            "ecos                          2.0.10                 /usr/local/lib/python3.7/dist-packages pip\n",
            "editdistance                  0.5.3                  /usr/local/lib/python3.7/dist-packages pip\n",
            "en-core-web-sm                3.4.1                  /usr/local/lib/python3.7/dist-packages pip\n",
            "entrypoints                   0.4                    /usr/local/lib/python3.7/dist-packages pip\n",
            "ephem                         4.1.3                  /usr/local/lib/python3.7/dist-packages pip\n",
            "et-xmlfile                    1.1.0                  /usr/local/lib/python3.7/dist-packages pip\n",
            "etils                         0.8.0                  /usr/local/lib/python3.7/dist-packages pip\n",
            "etuples                       0.3.8                  /usr/local/lib/python3.7/dist-packages pip\n",
            "fa2                           0.3.5                  /usr/local/lib/python3.7/dist-packages pip\n",
            "fastai                        2.7.9                  /usr/local/lib/python3.7/dist-packages pip\n",
            "fastcore                      1.5.27                 /usr/local/lib/python3.7/dist-packages pip\n",
            "fastdownload                  0.0.7                  /usr/local/lib/python3.7/dist-packages pip\n",
            "fastdtw                       0.3.4                  /usr/local/lib/python3.7/dist-packages pip\n",
            "fastjsonschema                2.16.2                 /usr/local/lib/python3.7/dist-packages pip\n",
            "fastprogress                  1.0.3                  /usr/local/lib/python3.7/dist-packages pip\n",
            "fastrlock                     0.8                    /usr/local/lib/python3.7/dist-packages pip\n",
            "feather-format                0.4.1                  /usr/local/lib/python3.7/dist-packages pip\n",
            "filelock                      3.8.0                  /usr/local/lib/python3.7/dist-packages pip\n",
            "firebase-admin                4.4.0                  /usr/local/lib/python3.7/dist-packages pip\n",
            "fix-yahoo-finance             0.0.22                 /usr/local/lib/python3.7/dist-packages pip\n",
            "Flask                         1.1.4                  /usr/local/lib/python3.7/dist-packages pip\n",
            "flatbuffers                   1.12                   /usr/local/lib/python3.7/dist-packages pip\n",
            "folium                        0.12.1.post1           /usr/local/lib/python3.7/dist-packages pip\n",
            "frozenlist                    1.3.1                  /usr/local/lib/python3.7/dist-packages pip\n",
            "fsspec                        2022.10.0              /usr/local/lib/python3.7/dist-packages pip\n",
            "future                        0.16.0                 /usr/local/lib/python3.7/dist-packages pip\n",
            "gast                          0.4.0                  /usr/local/lib/python3.7/dist-packages pip\n",
            "GDAL                          2.2.2                  /usr/local/lib/python3.7/dist-packages pip\n",
            "gdown                         4.4.0                  /usr/local/lib/python3.7/dist-packages pip\n",
            "gensim                        3.6.0                  /usr/local/lib/python3.7/dist-packages pip\n",
            "geographiclib                 1.52                   /usr/local/lib/python3.7/dist-packages pip\n",
            "geopy                         1.17.0                 /usr/local/lib/python3.7/dist-packages pip\n",
            "gin-config                    0.5.0                  /usr/local/lib/python3.7/dist-packages pip\n",
            "glob2                         0.7                    /usr/local/lib/python3.7/dist-packages pip\n",
            "google                        2.0.3                  /usr/local/lib/python3.7/dist-packages pip\n",
            "google-api-core               1.31.6                 /usr/local/lib/python3.7/dist-packages pip\n",
            "google-api-python-client      1.12.11                /usr/local/lib/python3.7/dist-packages pip\n",
            "google-auth                   1.35.0                 /usr/local/lib/python3.7/dist-packages pip\n",
            "google-auth-httplib2          0.0.4                  /usr/local/lib/python3.7/dist-packages pip\n",
            "google-auth-oauthlib          0.4.6                  /usr/local/lib/python3.7/dist-packages pip\n",
            "google-cloud-bigquery         1.21.0                 /usr/local/lib/python3.7/dist-packages pip\n",
            "google-cloud-bigquery-storage 1.1.2                  /usr/local/lib/python3.7/dist-packages pip\n",
            "google-cloud-core             1.0.3                  /usr/local/lib/python3.7/dist-packages pip\n",
            "google-cloud-datastore        1.8.0                  /usr/local/lib/python3.7/dist-packages pip\n",
            "google-cloud-firestore        1.7.0                  /usr/local/lib/python3.7/dist-packages pip\n",
            "google-cloud-language         1.2.0                  /usr/local/lib/python3.7/dist-packages pip\n",
            "google-cloud-storage          1.18.1                 /usr/local/lib/python3.7/dist-packages pip\n",
            "google-cloud-translate        1.5.0                  /usr/local/lib/python3.7/dist-packages pip\n",
            "google-colab                  1.0.0                  /usr/local/lib/python3.7/dist-packages pip\n",
            "google-pasta                  0.2.0                  /usr/local/lib/python3.7/dist-packages pip\n",
            "google-resumable-media        0.4.1                  /usr/local/lib/python3.7/dist-packages pip\n",
            "googleapis-common-protos      1.56.4                 /usr/local/lib/python3.7/dist-packages pip\n",
            "googledrivedownloader         0.4                    /usr/local/lib/python3.7/dist-packages pip\n",
            "graphviz                      0.10.1                 /usr/local/lib/python3.7/dist-packages pip\n",
            "greenlet                      1.1.3.post0            /usr/local/lib/python3.7/dist-packages pip\n",
            "grpcio                        1.50.0                 /usr/local/lib/python3.7/dist-packages pip\n",
            "gspread                       3.4.2                  /usr/local/lib/python3.7/dist-packages pip\n",
            "gspread-dataframe             3.0.8                  /usr/local/lib/python3.7/dist-packages pip\n",
            "gym                           0.25.2                 /usr/local/lib/python3.7/dist-packages pip\n",
            "gym-notices                   0.0.8                  /usr/local/lib/python3.7/dist-packages pip\n",
            "h5py                          3.1.0                  /usr/local/lib/python3.7/dist-packages pip\n",
            "HeapDict                      1.0.1                  /usr/local/lib/python3.7/dist-packages pip\n",
            "hijri-converter               2.2.4                  /usr/local/lib/python3.7/dist-packages pip\n",
            "holidays                      0.16                   /usr/local/lib/python3.7/dist-packages pip\n",
            "holoviews                     1.14.9                 /usr/local/lib/python3.7/dist-packages pip\n",
            "html5lib                      1.0.1                  /usr/local/lib/python3.7/dist-packages pip\n",
            "httpimport                    0.5.18                 /usr/local/lib/python3.7/dist-packages pip\n",
            "httplib2                      0.17.4                 /usr/local/lib/python3.7/dist-packages pip\n",
            "httplib2shim                  0.0.3                  /usr/local/lib/python3.7/dist-packages pip\n",
            "httpstan                      4.6.1                  /usr/local/lib/python3.7/dist-packages pip\n",
            "humanize                      0.5.1                  /usr/local/lib/python3.7/dist-packages pip\n",
            "hyperopt                      0.1.2                  /usr/local/lib/python3.7/dist-packages pip\n",
            "idna                          2.10                   /usr/local/lib/python3.7/dist-packages pip\n",
            "imageio                       2.9.0                  /usr/local/lib/python3.7/dist-packages pip\n",
            "imagesize                     1.4.1                  /usr/local/lib/python3.7/dist-packages pip\n",
            "imbalanced-learn              0.8.1                  /usr/local/lib/python3.7/dist-packages pip\n",
            "imblearn                      0.0                    /usr/local/lib/python3.7/dist-packages pip\n",
            "imgaug                        0.4.0                  /usr/local/lib/python3.7/dist-packages pip\n",
            "importlib-metadata            4.13.0                 /usr/local/lib/python3.7/dist-packages pip\n",
            "importlib-resources           5.10.0                 /usr/local/lib/python3.7/dist-packages pip\n",
            "imutils                       0.5.4                  /usr/local/lib/python3.7/dist-packages pip\n",
            "inflect                       2.1.0                  /usr/local/lib/python3.7/dist-packages pip\n",
            "intel-openmp                  2022.2.0               /usr/local/lib/python3.7/dist-packages pip\n",
            "intervaltree                  2.1.0                  /usr/local/lib/python3.7/dist-packages pip\n",
            "ipykernel                     5.3.4                  /usr/local/lib/python3.7/dist-packages pip\n",
            "ipython                       7.9.0                  /usr/local/lib/python3.7/dist-packages pip\n",
            "ipython-genutils              0.2.0                  /usr/local/lib/python3.7/dist-packages pip\n",
            "ipython-sql                   0.3.9                  /usr/local/lib/python3.7/dist-packages pip\n",
            "ipywidgets                    7.7.1                  /usr/local/lib/python3.7/dist-packages pip\n",
            "itsdangerous                  1.1.0                  /usr/local/lib/python3.7/dist-packages pip\n",
            "jax                           0.3.23                 /usr/local/lib/python3.7/dist-packages pip\n",
            "jaxlib                        0.3.22+cuda11.cudnn805 /usr/local/lib/python3.7/dist-packages pip\n",
            "jieba                         0.42.1                 /usr/local/lib/python3.7/dist-packages pip\n",
            "Jinja2                        2.11.3                 /usr/local/lib/python3.7/dist-packages pip\n",
            "joblib                        1.2.0                  /usr/local/lib/python3.7/dist-packages pip\n",
            "jpeg4py                       0.1.4                  /usr/local/lib/python3.7/dist-packages pip\n",
            "jsonschema                    4.3.3                  /usr/local/lib/python3.7/dist-packages pip\n",
            "jupyter-client                6.1.12                 /usr/local/lib/python3.7/dist-packages pip\n",
            "jupyter-console               6.1.0                  /usr/local/lib/python3.7/dist-packages pip\n",
            "jupyter-core                  4.11.2                 /usr/local/lib/python3.7/dist-packages pip\n",
            "jupyterlab-widgets            3.0.3                  /usr/local/lib/python3.7/dist-packages pip\n",
            "kaggle                        1.5.12                 /usr/local/lib/python3.7/dist-packages pip\n",
            "kapre                         0.3.7                  /usr/local/lib/python3.7/dist-packages pip\n",
            "keras                         2.9.0                  /usr/local/lib/python3.7/dist-packages pip\n",
            "Keras-Preprocessing           1.1.2                  /usr/local/lib/python3.7/dist-packages pip\n",
            "keras-vis                     0.4.1                  /usr/local/lib/python3.7/dist-packages pip\n",
            "kiwisolver                    1.4.4                  /usr/local/lib/python3.7/dist-packages pip\n",
            "korean-lunar-calendar         0.3.1                  /usr/local/lib/python3.7/dist-packages pip\n",
            "langcodes                     3.3.0                  /usr/local/lib/python3.7/dist-packages pip\n",
            "libclang                      14.0.6                 /usr/local/lib/python3.7/dist-packages pip\n",
            "librosa                       0.8.1                  /usr/local/lib/python3.7/dist-packages pip\n",
            "lightgbm                      2.2.3                  /usr/local/lib/python3.7/dist-packages pip\n",
            "llvmlite                      0.39.1                 /usr/local/lib/python3.7/dist-packages pip\n",
            "lmdb                          0.99                   /usr/local/lib/python3.7/dist-packages pip\n",
            "locket                        1.0.0                  /usr/local/lib/python3.7/dist-packages pip\n",
            "logical-unification           0.4.5                  /usr/local/lib/python3.7/dist-packages pip\n",
            "LunarCalendar                 0.0.9                  /usr/local/lib/python3.7/dist-packages pip\n",
            "lxml                          4.9.1                  /usr/local/lib/python3.7/dist-packages pip\n",
            "Markdown                      3.4.1                  /usr/local/lib/python3.7/dist-packages pip\n",
            "MarkupSafe                    2.0.1                  /usr/local/lib/python3.7/dist-packages pip\n",
            "marshmallow                   3.18.0                 /usr/local/lib/python3.7/dist-packages pip\n",
            "matplotlib                    3.2.2                  /usr/local/lib/python3.7/dist-packages pip\n",
            "matplotlib-venn               0.11.7                 /usr/local/lib/python3.7/dist-packages pip\n",
            "miniKanren                    1.0.3                  /usr/local/lib/python3.7/dist-packages pip\n",
            "missingno                     0.5.1                  /usr/local/lib/python3.7/dist-packages pip\n",
            "mistune                       0.8.4                  /usr/local/lib/python3.7/dist-packages pip\n",
            "mizani                        0.7.3                  /usr/local/lib/python3.7/dist-packages pip\n",
            "mkl                           2019.0                 /usr/local/lib/python3.7/dist-packages pip\n",
            "mlxtend                       0.14.0                 /usr/local/lib/python3.7/dist-packages pip\n",
            "more-itertools                9.0.0                  /usr/local/lib/python3.7/dist-packages pip\n",
            "moviepy                       0.2.3.5                /usr/local/lib/python3.7/dist-packages pip\n",
            "mpmath                        1.2.1                  /usr/local/lib/python3.7/dist-packages pip\n",
            "msgpack                       1.0.4                  /usr/local/lib/python3.7/dist-packages pip\n",
            "multidict                     6.0.2                  /usr/local/lib/python3.7/dist-packages pip\n",
            "multipledispatch              0.6.0                  /usr/local/lib/python3.7/dist-packages pip\n",
            "multitasking                  0.0.11                 /usr/local/lib/python3.7/dist-packages pip\n",
            "murmurhash                    1.0.9                  /usr/local/lib/python3.7/dist-packages pip\n",
            "music21                       5.5.0                  /usr/local/lib/python3.7/dist-packages pip\n",
            "natsort                       5.5.0                  /usr/local/lib/python3.7/dist-packages pip\n",
            "nbconvert                     5.6.1                  /usr/local/lib/python3.7/dist-packages pip\n",
            "nbformat                      5.7.0                  /usr/local/lib/python3.7/dist-packages pip\n",
            "netCDF4                       1.6.1                  /usr/local/lib/python3.7/dist-packages pip\n",
            "networkx                      2.6.3                  /usr/local/lib/python3.7/dist-packages pip\n",
            "nibabel                       3.0.2                  /usr/local/lib/python3.7/dist-packages pip\n",
            "nltk                          3.7                    /usr/local/lib/python3.7/dist-packages pip\n",
            "notebook                      5.5.0                  /usr/local/lib/python3.7/dist-packages pip\n",
            "numba                         0.56.3                 /usr/local/lib/python3.7/dist-packages pip\n",
            "numexpr                       2.8.3                  /usr/local/lib/python3.7/dist-packages pip\n",
            "numpy                         1.21.6                 /usr/local/lib/python3.7/dist-packages pip\n",
            "oauth2client                  4.1.3                  /usr/local/lib/python3.7/dist-packages pip\n",
            "oauthlib                      3.2.2                  /usr/local/lib/python3.7/dist-packages pip\n",
            "okgrade                       0.4.3                  /usr/local/lib/python3.7/dist-packages pip\n",
            "opencv-contrib-python         4.6.0.66               /usr/local/lib/python3.7/dist-packages pip\n",
            "opencv-python                 4.6.0.66               /usr/local/lib/python3.7/dist-packages pip\n",
            "opencv-python-headless        4.6.0.66               /usr/local/lib/python3.7/dist-packages pip\n",
            "openpyxl                      3.0.10                 /usr/local/lib/python3.7/dist-packages pip\n",
            "opt-einsum                    3.3.0                  /usr/local/lib/python3.7/dist-packages pip\n",
            "osqp                          0.6.2.post0            /usr/local/lib/python3.7/dist-packages pip\n",
            "packaging                     21.3                   /usr/local/lib/python3.7/dist-packages pip\n",
            "palettable                    3.3.0                  /usr/local/lib/python3.7/dist-packages pip\n",
            "pandas                        1.3.5                  /usr/local/lib/python3.7/dist-packages pip\n",
            "pandas-datareader             0.9.0                  /usr/local/lib/python3.7/dist-packages pip\n",
            "pandas-gbq                    0.13.3                 /usr/local/lib/python3.7/dist-packages pip\n",
            "pandas-profiling              1.4.1                  /usr/local/lib/python3.7/dist-packages pip\n",
            "pandocfilters                 1.5.0                  /usr/local/lib/python3.7/dist-packages pip\n",
            "panel                         0.12.1                 /usr/local/lib/python3.7/dist-packages pip\n",
            "param                         1.12.2                 /usr/local/lib/python3.7/dist-packages pip\n",
            "parso                         0.8.3                  /usr/local/lib/python3.7/dist-packages pip\n",
            "partd                         1.3.0                  /usr/local/lib/python3.7/dist-packages pip\n",
            "pastel                        0.2.1                  /usr/local/lib/python3.7/dist-packages pip\n",
            "pathlib                       1.0.1                  /usr/local/lib/python3.7/dist-packages pip\n",
            "pathy                         0.6.2                  /usr/local/lib/python3.7/dist-packages pip\n",
            "patsy                         0.5.3                  /usr/local/lib/python3.7/dist-packages pip\n",
            "pep517                        0.13.0                 /usr/local/lib/python3.7/dist-packages pip\n",
            "pexpect                       4.8.0                  /usr/local/lib/python3.7/dist-packages pip\n",
            "pickleshare                   0.7.5                  /usr/local/lib/python3.7/dist-packages pip\n",
            "Pillow                        7.1.2                  /usr/local/lib/python3.7/dist-packages pip\n",
            "pip                           21.1.3                 /usr/local/lib/python3.7/dist-packages pip\n",
            "pip-tools                     6.2.0                  /usr/local/lib/python3.7/dist-packages pip\n",
            "plotly                        5.5.0                  /usr/local/lib/python3.7/dist-packages pip\n",
            "plotnine                      0.8.0                  /usr/local/lib/python3.7/dist-packages pip\n",
            "pluggy                        0.7.1                  /usr/local/lib/python3.7/dist-packages pip\n",
            "pooch                         1.6.0                  /usr/local/lib/python3.7/dist-packages pip\n",
            "portpicker                    1.3.9                  /usr/local/lib/python3.7/dist-packages pip\n",
            "prefetch-generator            1.0.1                  /usr/local/lib/python3.7/dist-packages pip\n",
            "preshed                       3.0.8                  /usr/local/lib/python3.7/dist-packages pip\n",
            "prettytable                   3.4.1                  /usr/local/lib/python3.7/dist-packages pip\n",
            "progressbar2                  3.38.0                 /usr/local/lib/python3.7/dist-packages pip\n",
            "promise                       2.3                    /usr/local/lib/python3.7/dist-packages pip\n",
            "prompt-toolkit                2.0.10                 /usr/local/lib/python3.7/dist-packages pip\n",
            "prophet                       1.1.1                  /usr/local/lib/python3.7/dist-packages pip\n",
            "protobuf                      3.17.3                 /usr/local/lib/python3.7/dist-packages pip\n",
            "psutil                        5.4.8                  /usr/local/lib/python3.7/dist-packages pip\n",
            "psycopg2                      2.9.4                  /usr/local/lib/python3.7/dist-packages pip\n",
            "ptyprocess                    0.7.0                  /usr/local/lib/python3.7/dist-packages pip\n",
            "py                            1.11.0                 /usr/local/lib/python3.7/dist-packages pip\n",
            "pyarrow                       6.0.1                  /usr/local/lib/python3.7/dist-packages pip\n",
            "pyasn1                        0.4.8                  /usr/local/lib/python3.7/dist-packages pip\n",
            "pyasn1-modules                0.2.8                  /usr/local/lib/python3.7/dist-packages pip\n",
            "pycocotools                   2.0.5                  /usr/local/lib/python3.7/dist-packages pip\n",
            "pycparser                     2.21                   /usr/local/lib/python3.7/dist-packages pip\n",
            "pyct                          0.4.8                  /usr/local/lib/python3.7/dist-packages pip\n",
            "pydantic                      1.10.2                 /usr/local/lib/python3.7/dist-packages pip\n",
            "pydata-google-auth            1.4.0                  /usr/local/lib/python3.7/dist-packages pip\n",
            "pydot                         1.3.0                  /usr/local/lib/python3.7/dist-packages pip\n",
            "pydot-ng                      2.0.0                  /usr/local/lib/python3.7/dist-packages pip\n",
            "pydotplus                     2.0.2                  /usr/local/lib/python3.7/dist-packages pip\n",
            "PyDrive                       1.3.1                  /usr/local/lib/python3.7/dist-packages pip\n",
            "pyemd                         0.5.1                  /usr/local/lib/python3.7/dist-packages pip\n",
            "pyerfa                        2.0.0.1                /usr/local/lib/python3.7/dist-packages pip\n",
            "Pygments                      2.6.1                  /usr/local/lib/python3.7/dist-packages pip\n",
            "pygobject                     3.26.1                 /usr/lib/python3/dist-packages\n",
            "pylev                         1.4.0                  /usr/local/lib/python3.7/dist-packages pip\n",
            "pymc                          4.1.4                  /usr/local/lib/python3.7/dist-packages pip\n",
            "PyMeeus                       0.5.11                 /usr/local/lib/python3.7/dist-packages pip\n",
            "pymongo                       4.3.2                  /usr/local/lib/python3.7/dist-packages pip\n",
            "pymystem3                     0.2.0                  /usr/local/lib/python3.7/dist-packages pip\n",
            "PyOpenGL                      3.1.6                  /usr/local/lib/python3.7/dist-packages pip\n",
            "pyparsing                     3.0.9                  /usr/local/lib/python3.7/dist-packages pip\n",
            "pyrsistent                    0.18.1                 /usr/local/lib/python3.7/dist-packages pip\n",
            "pysimdjson                    3.2.0                  /usr/local/lib/python3.7/dist-packages pip\n",
            "pysndfile                     1.3.8                  /usr/local/lib/python3.7/dist-packages pip\n",
            "PySocks                       1.7.1                  /usr/local/lib/python3.7/dist-packages pip\n",
            "pystan                        3.3.0                  /usr/local/lib/python3.7/dist-packages pip\n",
            "pytest                        3.6.4                  /usr/local/lib/python3.7/dist-packages pip\n",
            "python-apt                    0.0.0                  /usr/local/lib/python3.7/dist-packages\n",
            "python-dateutil               2.8.2                  /usr/local/lib/python3.7/dist-packages pip\n",
            "python-louvain                0.16                   /usr/local/lib/python3.7/dist-packages pip\n",
            "python-slugify                6.1.2                  /usr/local/lib/python3.7/dist-packages pip\n",
            "python-utils                  3.3.3                  /usr/local/lib/python3.7/dist-packages pip\n",
            "pytz                          2022.5                 /usr/local/lib/python3.7/dist-packages pip\n",
            "pyviz-comms                   2.2.1                  /usr/local/lib/python3.7/dist-packages pip\n",
            "PyWavelets                    1.3.0                  /usr/local/lib/python3.7/dist-packages pip\n",
            "PyYAML                        6.0                    /usr/local/lib/python3.7/dist-packages pip\n",
            "pyzmq                         23.2.1                 /usr/local/lib/python3.7/dist-packages pip\n",
            "qdldl                         0.1.5.post2            /usr/local/lib/python3.7/dist-packages pip\n",
            "qudida                        0.0.4                  /usr/local/lib/python3.7/dist-packages pip\n",
            "regex                         2022.6.2               /usr/local/lib/python3.7/dist-packages pip\n",
            "requests                      2.23.0                 /usr/local/lib/python3.7/dist-packages pip\n",
            "requests-oauthlib             1.3.1                  /usr/local/lib/python3.7/dist-packages pip\n",
            "resampy                       0.4.2                  /usr/local/lib/python3.7/dist-packages pip\n",
            "rpy2                          3.4.5                  /usr/local/lib/python3.7/dist-packages pip\n",
            "rsa                           4.9                    /usr/local/lib/python3.7/dist-packages pip\n",
            "scikit-image                  0.18.3                 /usr/local/lib/python3.7/dist-packages pip\n",
            "scikit-learn                  1.0.2                  /usr/local/lib/python3.7/dist-packages pip\n",
            "scipy                         1.7.3                  /usr/local/lib/python3.7/dist-packages pip\n",
            "screen-resolution-extra       0.0.0                  /usr/lib/python3/dist-packages\n",
            "scs                           3.2.0                  /usr/local/lib/python3.7/dist-packages pip\n",
            "seaborn                       0.11.2                 /usr/local/lib/python3.7/dist-packages pip\n",
            "Send2Trash                    1.8.0                  /usr/local/lib/python3.7/dist-packages pip\n",
            "setuptools                    57.4.0                 /usr/local/lib/python3.7/dist-packages pip\n",
            "setuptools-git                1.2                    /usr/local/lib/python3.7/dist-packages pip\n",
            "Shapely                       1.8.5.post1            /usr/local/lib/python3.7/dist-packages pip\n",
            "six                           1.15.0                 /usr/local/lib/python3.7/dist-packages pip\n",
            "sklearn-pandas                1.8.0                  /usr/local/lib/python3.7/dist-packages pip\n",
            "smart-open                    5.2.1                  /usr/local/lib/python3.7/dist-packages pip\n",
            "snowballstemmer               2.2.0                  /usr/local/lib/python3.7/dist-packages pip\n",
            "sortedcontainers              2.4.0                  /usr/local/lib/python3.7/dist-packages pip\n",
            "soundfile                     0.11.0                 /usr/local/lib/python3.7/dist-packages pip\n",
            "spacy                         3.4.2                  /usr/local/lib/python3.7/dist-packages pip\n",
            "spacy-legacy                  3.0.10                 /usr/local/lib/python3.7/dist-packages pip\n",
            "spacy-loggers                 1.0.3                  /usr/local/lib/python3.7/dist-packages pip\n",
            "Sphinx                        1.8.6                  /usr/local/lib/python3.7/dist-packages pip\n",
            "sphinxcontrib-serializinghtml 1.1.5                  /usr/local/lib/python3.7/dist-packages pip\n",
            "sphinxcontrib-websupport      1.2.4                  /usr/local/lib/python3.7/dist-packages pip\n",
            "SQLAlchemy                    1.4.42                 /usr/local/lib/python3.7/dist-packages pip\n",
            "sqlparse                      0.4.3                  /usr/local/lib/python3.7/dist-packages pip\n",
            "srsly                         2.4.5                  /usr/local/lib/python3.7/dist-packages pip\n",
            "statsmodels                   0.12.2                 /usr/local/lib/python3.7/dist-packages pip\n",
            "sympy                         1.7.1                  /usr/local/lib/python3.7/dist-packages pip\n",
            "tables                        3.7.0                  /usr/local/lib/python3.7/dist-packages pip\n",
            "tabulate                      0.8.10                 /usr/local/lib/python3.7/dist-packages pip\n",
            "tblib                         1.7.0                  /usr/local/lib/python3.7/dist-packages pip\n",
            "tenacity                      8.1.0                  /usr/local/lib/python3.7/dist-packages pip\n",
            "tensorboard                   2.9.1                  /usr/local/lib/python3.7/dist-packages pip\n",
            "tensorboard-data-server       0.6.1                  /usr/local/lib/python3.7/dist-packages pip\n",
            "tensorboard-plugin-wit        1.8.1                  /usr/local/lib/python3.7/dist-packages pip\n",
            "tensorflow                    2.9.2                  /usr/local/lib/python3.7/dist-packages pip\n",
            "tensorflow-datasets           4.6.0                  /usr/local/lib/python3.7/dist-packages pip\n",
            "tensorflow-estimator          2.9.0                  /usr/local/lib/python3.7/dist-packages pip\n",
            "tensorflow-gcs-config         2.9.1                  /usr/local/lib/python3.7/dist-packages pip\n",
            "tensorflow-hub                0.12.0                 /usr/local/lib/python3.7/dist-packages pip\n",
            "tensorflow-io-gcs-filesystem  0.27.0                 /usr/local/lib/python3.7/dist-packages pip\n",
            "tensorflow-metadata           1.10.0                 /usr/local/lib/python3.7/dist-packages pip\n",
            "tensorflow-probability        0.16.0                 /usr/local/lib/python3.7/dist-packages pip\n",
            "termcolor                     2.0.1                  /usr/local/lib/python3.7/dist-packages pip\n",
            "terminado                     0.13.3                 /usr/local/lib/python3.7/dist-packages pip\n",
            "testpath                      0.6.0                  /usr/local/lib/python3.7/dist-packages pip\n",
            "text-unidecode                1.3                    /usr/local/lib/python3.7/dist-packages pip\n",
            "textblob                      0.15.3                 /usr/local/lib/python3.7/dist-packages pip\n",
            "thinc                         8.1.5                  /usr/local/lib/python3.7/dist-packages pip\n",
            "threadpoolctl                 3.1.0                  /usr/local/lib/python3.7/dist-packages pip\n",
            "tifffile                      2021.11.2              /usr/local/lib/python3.7/dist-packages pip\n",
            "toml                          0.10.2                 /usr/local/lib/python3.7/dist-packages pip\n",
            "tomli                         2.0.1                  /usr/local/lib/python3.7/dist-packages pip\n",
            "toolz                         0.12.0                 /usr/local/lib/python3.7/dist-packages pip\n",
            "torch                         1.12.1+cu113           /usr/local/lib/python3.7/dist-packages pip\n",
            "torchaudio                    0.12.1+cu113           /usr/local/lib/python3.7/dist-packages pip\n",
            "torchsummary                  1.5.1                  /usr/local/lib/python3.7/dist-packages pip\n",
            "torchtext                     0.13.1                 /usr/local/lib/python3.7/dist-packages pip\n",
            "torchvision                   0.13.1+cu113           /usr/local/lib/python3.7/dist-packages pip\n",
            "tornado                       5.1.1                  /usr/local/lib/python3.7/dist-packages pip\n",
            "tqdm                          4.64.1                 /usr/local/lib/python3.7/dist-packages pip\n",
            "traitlets                     5.1.1                  /usr/local/lib/python3.7/dist-packages pip\n",
            "tweepy                        3.10.0                 /usr/local/lib/python3.7/dist-packages pip\n",
            "typeguard                     2.7.1                  /usr/local/lib/python3.7/dist-packages pip\n",
            "typer                         0.4.2                  /usr/local/lib/python3.7/dist-packages pip\n",
            "typing-extensions             4.1.1                  /usr/local/lib/python3.7/dist-packages pip\n",
            "tzlocal                       1.5.1                  /usr/local/lib/python3.7/dist-packages pip\n",
            "ujson                         5.5.0                  /usr/local/lib/python3.7/dist-packages pip\n",
            "uritemplate                   3.0.1                  /usr/local/lib/python3.7/dist-packages pip\n",
            "urllib3                       1.24.3                 /usr/local/lib/python3.7/dist-packages pip\n",
            "vega-datasets                 0.9.0                  /usr/local/lib/python3.7/dist-packages pip\n",
            "wasabi                        0.10.1                 /usr/local/lib/python3.7/dist-packages pip\n",
            "wcwidth                       0.2.5                  /usr/local/lib/python3.7/dist-packages pip\n",
            "webargs                       8.2.0                  /usr/local/lib/python3.7/dist-packages pip\n",
            "webencodings                  0.5.1                  /usr/local/lib/python3.7/dist-packages pip\n",
            "Werkzeug                      1.0.1                  /usr/local/lib/python3.7/dist-packages pip\n",
            "wheel                         0.37.1                 /usr/local/lib/python3.7/dist-packages pip\n",
            "widgetsnbextension            3.6.1                  /usr/local/lib/python3.7/dist-packages pip\n",
            "wordcloud                     1.8.2.2                /usr/local/lib/python3.7/dist-packages pip\n",
            "wrapt                         1.14.1                 /usr/local/lib/python3.7/dist-packages pip\n",
            "xarray                        0.20.2                 /usr/local/lib/python3.7/dist-packages pip\n",
            "xarray-einstats               0.2.2                  /usr/local/lib/python3.7/dist-packages pip\n",
            "xgboost                       0.90                   /usr/local/lib/python3.7/dist-packages pip\n",
            "xkit                          0.0.0                  /usr/lib/python3/dist-packages\n",
            "xlrd                          1.1.0                  /usr/local/lib/python3.7/dist-packages pip\n",
            "xlwt                          1.3.0                  /usr/local/lib/python3.7/dist-packages pip\n",
            "yarl                          1.8.1                  /usr/local/lib/python3.7/dist-packages pip\n",
            "yellowbrick                   1.5                    /usr/local/lib/python3.7/dist-packages pip\n",
            "zict                          2.2.0                  /usr/local/lib/python3.7/dist-packages pip\n",
            "zipp                          3.9.0                  /usr/local/lib/python3.7/dist-packages pip\n"
          ]
        }
      ]
    }
  ]
}