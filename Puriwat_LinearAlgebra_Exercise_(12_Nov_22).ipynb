{
  "nbformat": 4,
  "nbformat_minor": 0,
  "metadata": {
    "colab": {
      "provenance": [],
      "toc_visible": true,
      "include_colab_link": true
    },
    "kernelspec": {
      "name": "python3",
      "display_name": "Python 3"
    },
    "language_info": {
      "name": "python"
    }
  },
  "cells": [
    {
      "cell_type": "markdown",
      "metadata": {
        "id": "view-in-github",
        "colab_type": "text"
      },
      "source": [
        "<a href=\"https://colab.research.google.com/github/Pongpang-2102/Linear-Algebra-for-Data-Science_KDAI-Project/blob/main/Puriwat_LinearAlgebra_Exercise_(12_Nov_22).ipynb\" target=\"_parent\"><img src=\"https://colab.research.google.com/assets/colab-badge.svg\" alt=\"Open In Colab\"/></a>"
      ]
    },
    {
      "cell_type": "markdown",
      "source": [
        "# Worksheet 2 : Image Processing"
      ],
      "metadata": {
        "id": "dEjw-u_QF-N1"
      }
    },
    {
      "cell_type": "code",
      "source": [
        "# start with import neccessary libraries\n",
        "\n",
        "import matplotlib.pyplot as plt  # For plotting\n",
        "import numpy as np               # For the linear algebra\n",
        "\n",
        "%matplotlib inline             \n",
        "\n",
        "from scipy import misc          # scipy package misc contains a few images\n",
        "#from scipy.misc import face"
      ],
      "metadata": {
        "id": "RsvYMlRA8LIG"
      },
      "execution_count": null,
      "outputs": []
    },
    {
      "cell_type": "markdown",
      "source": [
        "## 01. Create an Image"
      ],
      "metadata": {
        "id": "w9boAfg9GNfd"
      }
    },
    {
      "cell_type": "code",
      "execution_count": null,
      "metadata": {
        "colab": {
          "base_uri": "https://localhost:8080/"
        },
        "id": "gJQ4qfvm7GqC",
        "outputId": "896ef1aa-340f-4f90-a526-6f19eb33f26c"
      },
      "outputs": [
        {
          "output_type": "stream",
          "name": "stdout",
          "text": [
            "The size of the image is  (10, 10)\n"
          ]
        }
      ],
      "source": [
        "# create an image (matrix 10*10)\n",
        "\n",
        "w = 255\n",
        "b = 0\n",
        "\n",
        "A = np.array([ \n",
        "              [w,w,w,b,b,w,w,w,w,w],\n",
        "              [b,b,w,w,b,b,b,w,w,w],\n",
        "              [w,b,w,w,w,b,b,w,w,w],\n",
        "              [w,b,b,w,b,b,b,b,w,w],\n",
        "              [w,w,b,b,b,b,b,b,b,w],\n",
        "              [w,w,b,b,b,b,b,w,b,b],\n",
        "              [w,b,b,b,b,b,b,b,b,b],\n",
        "              [w,b,b,w,b,b,b,b,b,w], \n",
        "              [b,b,w,w,w,b,b,w,w,w], \n",
        "              [w,w,w,w,b,b,w,w,w,w] ])\n",
        "print('The size of the image is ', A.shape)"
      ]
    },
    {
      "cell_type": "code",
      "source": [
        "print('The matrix A has entries \\n', A)"
      ],
      "metadata": {
        "colab": {
          "base_uri": "https://localhost:8080/"
        },
        "id": "XcO5_h9S7xly",
        "outputId": "b5ab8c63-79cf-40e1-95b4-f32904664675"
      },
      "execution_count": null,
      "outputs": [
        {
          "output_type": "stream",
          "name": "stdout",
          "text": [
            "The matrix A has entries \n",
            " [[255 255 255   0   0 255 255 255 255 255]\n",
            " [  0   0 255 255   0   0   0 255 255 255]\n",
            " [255   0 255 255 255   0   0 255 255 255]\n",
            " [255   0   0 255   0   0   0   0 255 255]\n",
            " [255 255   0   0   0   0   0   0   0 255]\n",
            " [255 255   0   0   0   0   0 255   0   0]\n",
            " [255   0   0   0   0   0   0   0   0   0]\n",
            " [255   0   0 255   0   0   0   0   0 255]\n",
            " [  0   0 255 255 255   0   0 255 255 255]\n",
            " [255 255 255 255   0   0 255 255 255 255]]\n"
          ]
        }
      ]
    },
    {
      "cell_type": "code",
      "source": [
        "# show Image of our sample fish\n",
        "\n",
        "plt.imshow(A, cmap='gray')"
      ],
      "metadata": {
        "colab": {
          "base_uri": "https://localhost:8080/",
          "height": 282
        },
        "id": "PbvCGU5q70Di",
        "outputId": "14850587-2d0f-49e1-b005-51fb41623266"
      },
      "execution_count": null,
      "outputs": [
        {
          "output_type": "execute_result",
          "data": {
            "text/plain": [
              "<matplotlib.image.AxesImage at 0x7f48ce747f40>"
            ]
          },
          "metadata": {},
          "execution_count": 4
        },
        {
          "output_type": "display_data",
          "data": {
            "text/plain": [
              "<Figure size 432x288 with 1 Axes>"
            ],
            "image/png": "[encoded data removed]"
          },
          "metadata": {
            "needs_background": "light"
          }
        }
      ]
    },
    {
      "cell_type": "markdown",
      "source": [
        "## 02. Reflecting the images"
      ],
      "metadata": {
        "id": "xdqgIBv9_Nuz"
      }
    },
    {
      "cell_type": "code",
      "source": [
        "# create an identity matrix\n",
        "\n",
        "P = np.eye(10) # identity matrix\n",
        "P"
      ],
      "metadata": {
        "colab": {
          "base_uri": "https://localhost:8080/"
        },
        "id": "hVRGKGvt_S2D",
        "outputId": "f39cbbd9-588f-4153-8066-524724429ab1"
      },
      "execution_count": null,
      "outputs": [
        {
          "output_type": "execute_result",
          "data": {
            "text/plain": [
              "array([[1., 0., 0., 0., 0., 0., 0., 0., 0., 0.],\n",
              "       [0., 1., 0., 0., 0., 0., 0., 0., 0., 0.],\n",
              "       [0., 0., 1., 0., 0., 0., 0., 0., 0., 0.],\n",
              "       [0., 0., 0., 1., 0., 0., 0., 0., 0., 0.],\n",
              "       [0., 0., 0., 0., 1., 0., 0., 0., 0., 0.],\n",
              "       [0., 0., 0., 0., 0., 1., 0., 0., 0., 0.],\n",
              "       [0., 0., 0., 0., 0., 0., 1., 0., 0., 0.],\n",
              "       [0., 0., 0., 0., 0., 0., 0., 1., 0., 0.],\n",
              "       [0., 0., 0., 0., 0., 0., 0., 0., 1., 0.],\n",
              "       [0., 0., 0., 0., 0., 0., 0., 0., 0., 1.]])"
            ]
          },
          "metadata": {},
          "execution_count": 5
        }
      ]
    },
    {
      "cell_type": "code",
      "source": [
        "# create an reverse indentity matrix\n",
        "P = P[::-1,:]         ## Reverses the rows of the permutation matrix\n",
        "print('The reverse identity matrix is \\n ', P)\n"
      ],
      "metadata": {
        "colab": {
          "base_uri": "https://localhost:8080/"
        },
        "id": "nqPL55u-_itD",
        "outputId": "9090823e-cb2e-4a32-ec61-6dc8dc22ad1f"
      },
      "execution_count": null,
      "outputs": [
        {
          "output_type": "stream",
          "name": "stdout",
          "text": [
            "The reverse identity matrix is \n",
            "  [[0. 0. 0. 0. 0. 0. 0. 0. 0. 1.]\n",
            " [0. 0. 0. 0. 0. 0. 0. 0. 1. 0.]\n",
            " [0. 0. 0. 0. 0. 0. 0. 1. 0. 0.]\n",
            " [0. 0. 0. 0. 0. 0. 1. 0. 0. 0.]\n",
            " [0. 0. 0. 0. 0. 1. 0. 0. 0. 0.]\n",
            " [0. 0. 0. 0. 1. 0. 0. 0. 0. 0.]\n",
            " [0. 0. 0. 1. 0. 0. 0. 0. 0. 0.]\n",
            " [0. 0. 1. 0. 0. 0. 0. 0. 0. 0.]\n",
            " [0. 1. 0. 0. 0. 0. 0. 0. 0. 0.]\n",
            " [1. 0. 0. 0. 0. 0. 0. 0. 0. 0.]]\n"
          ]
        }
      ]
    },
    {
      "cell_type": "markdown",
      "source": [
        "### 02-1 Reflect x-axis"
      ],
      "metadata": {
        "id": "QB7f4J17GZDN"
      }
    },
    {
      "cell_type": "code",
      "source": [
        "# to reflex  the image over the x-axis , write the new matrix , and draw the new images\n",
        "plt.imshow(P@A , cmap='gray', vmin = 0 , vmax = 255)\n",
        "\n",
        "print('The matrix of reflect the image over x-axis is \\n ', P@A)\n",
        "\n"
      ],
      "metadata": {
        "colab": {
          "base_uri": "https://localhost:8080/",
          "height": 456
        },
        "id": "0elChr0g-DKK",
        "outputId": "144e68c3-79c3-4646-990c-3f583802a161"
      },
      "execution_count": null,
      "outputs": [
        {
          "output_type": "stream",
          "name": "stdout",
          "text": [
            "The matrix of reflect the image over x-axis is \n",
            "  [[255. 255. 255. 255.   0.   0. 255. 255. 255. 255.]\n",
            " [  0.   0. 255. 255. 255.   0.   0. 255. 255. 255.]\n",
            " [255.   0.   0. 255.   0.   0.   0.   0.   0. 255.]\n",
            " [255.   0.   0.   0.   0.   0.   0.   0.   0.   0.]\n",
            " [255. 255.   0.   0.   0.   0.   0. 255.   0.   0.]\n",
            " [255. 255.   0.   0.   0.   0.   0.   0.   0. 255.]\n",
            " [255.   0.   0. 255.   0.   0.   0.   0. 255. 255.]\n",
            " [255.   0. 255. 255. 255.   0.   0. 255. 255. 255.]\n",
            " [  0.   0. 255. 255.   0.   0.   0. 255. 255. 255.]\n",
            " [255. 255. 255.   0.   0. 255. 255. 255. 255. 255.]]\n"
          ]
        },
        {
          "output_type": "display_data",
          "data": {
            "text/plain": [
              "<Figure size 432x288 with 1 Axes>"
            ],
            "image/png": "[encoded data removed]"
          },
          "metadata": {
            "needs_background": "light"
          }
        }
      ]
    },
    {
      "cell_type": "markdown",
      "source": [
        "### 02-2 Reflect y-axis"
      ],
      "metadata": {
        "id": "rxnTSKB0GsPJ"
      }
    },
    {
      "cell_type": "code",
      "source": [
        "# to reflex  the image over the y-axis , write the new matrix , and draw the new images\n",
        "plt.imshow(A@P , cmap='gray', vmin = 0 , vmax = 255)\n",
        "\n",
        "print('The matrix of reflect the image over x-axis is \\n ', A@P)"
      ],
      "metadata": {
        "colab": {
          "base_uri": "https://localhost:8080/",
          "height": 456
        },
        "id": "JGaQB5HT-XPC",
        "outputId": "5a002982-d551-4675-c6a7-f9305c39bb6b"
      },
      "execution_count": null,
      "outputs": [
        {
          "output_type": "stream",
          "name": "stdout",
          "text": [
            "The matrix of reflect the image over x-axis is \n",
            "  [[255. 255. 255. 255. 255.   0.   0. 255. 255. 255.]\n",
            " [255. 255. 255.   0.   0.   0. 255. 255.   0.   0.]\n",
            " [255. 255. 255.   0.   0. 255. 255. 255.   0. 255.]\n",
            " [255. 255.   0.   0.   0.   0. 255.   0.   0. 255.]\n",
            " [255.   0.   0.   0.   0.   0.   0.   0. 255. 255.]\n",
            " [  0.   0. 255.   0.   0.   0.   0.   0. 255. 255.]\n",
            " [  0.   0.   0.   0.   0.   0.   0.   0.   0. 255.]\n",
            " [255.   0.   0.   0.   0.   0. 255.   0.   0. 255.]\n",
            " [255. 255. 255.   0.   0. 255. 255. 255.   0.   0.]\n",
            " [255. 255. 255. 255.   0.   0. 255. 255. 255. 255.]]\n"
          ]
        },
        {
          "output_type": "display_data",
          "data": {
            "text/plain": [
              "<Figure size 432x288 with 1 Axes>"
            ],
            "image/png": "[encoded data removed]"
          },
          "metadata": {
            "needs_background": "light"
          }
        }
      ]
    },
    {
      "cell_type": "markdown",
      "source": [
        "## 03. Brightness Change"
      ],
      "metadata": {
        "id": "p95BgDe-ApsF"
      }
    },
    {
      "cell_type": "code",
      "source": [
        "# to chage the brightness of the previous image by scalar of 1/2 , write the new matrix and draw the new image\n",
        "\n",
        "plt.imshow(   A/2 , cmap='gray' , vmin = 0 , vmax = 255)\n",
        "\n",
        "\n",
        "print('The brightness changed matrix is \\n ', A/2)"
      ],
      "metadata": {
        "colab": {
          "base_uri": "https://localhost:8080/",
          "height": 456
        },
        "id": "REanKQxAArdF",
        "outputId": "c87837b5-a089-41ae-f464-77c867ea02f0"
      },
      "execution_count": null,
      "outputs": [
        {
          "output_type": "stream",
          "name": "stdout",
          "text": [
            "The brightness changed matrix is \n",
            "  [[127.5 127.5 127.5   0.    0.  127.5 127.5 127.5 127.5 127.5]\n",
            " [  0.    0.  127.5 127.5   0.    0.    0.  127.5 127.5 127.5]\n",
            " [127.5   0.  127.5 127.5 127.5   0.    0.  127.5 127.5 127.5]\n",
            " [127.5   0.    0.  127.5   0.    0.    0.    0.  127.5 127.5]\n",
            " [127.5 127.5   0.    0.    0.    0.    0.    0.    0.  127.5]\n",
            " [127.5 127.5   0.    0.    0.    0.    0.  127.5   0.    0. ]\n",
            " [127.5   0.    0.    0.    0.    0.    0.    0.    0.    0. ]\n",
            " [127.5   0.    0.  127.5   0.    0.    0.    0.    0.  127.5]\n",
            " [  0.    0.  127.5 127.5 127.5   0.    0.  127.5 127.5 127.5]\n",
            " [127.5 127.5 127.5 127.5   0.    0.  127.5 127.5 127.5 127.5]]\n"
          ]
        },
        {
          "output_type": "display_data",
          "data": {
            "text/plain": [
              "<Figure size 432x288 with 1 Axes>"
            ],
            "image/png": "[encoded data removed]"
          },
          "metadata": {
            "needs_background": "light"
          }
        }
      ]
    },
    {
      "cell_type": "markdown",
      "source": [
        "### Did you darken or lighten the image? Why?\n",
        "-  The image is being darkened bacause we multiply our value with 0.5 which reducing this value will make the image darker \n",
        "####Pls be noted that \n",
        "- value near 0 -> pixel will be darker\n",
        "- value near 255 -> pixel will be lighter\n",
        "          \n",
        "                "
      ],
      "metadata": {
        "id": "jxqq_QttA19D"
      }
    },
    {
      "cell_type": "markdown",
      "source": [
        "## 04. Image Inversion (255*I - A)"
      ],
      "metadata": {
        "id": "xQbrB1_8G-1V"
      }
    },
    {
      "cell_type": "code",
      "source": [
        "# Image inversion (255*I-A)\n",
        "\n",
        "# show Inverted Image\n",
        "plt.imshow(255-A, cmap='gray' , vmin = 0 , vmax = 255)\n",
        "\n",
        "print('The matrix of image inversion for matrix A is \\n ', 255-A)"
      ],
      "metadata": {
        "colab": {
          "base_uri": "https://localhost:8080/",
          "height": 456
        },
        "id": "_43Ls0AyA9dn",
        "outputId": "dc840a45-9cf4-4637-e56b-b46160381bf2"
      },
      "execution_count": null,
      "outputs": [
        {
          "output_type": "stream",
          "name": "stdout",
          "text": [
            "The matrix of image inversion for matrix A is \n",
            "  [[  0   0   0 255 255   0   0   0   0   0]\n",
            " [255 255   0   0 255 255 255   0   0   0]\n",
            " [  0 255   0   0   0 255 255   0   0   0]\n",
            " [  0 255 255   0 255 255 255 255   0   0]\n",
            " [  0   0 255 255 255 255 255 255 255   0]\n",
            " [  0   0 255 255 255 255 255   0 255 255]\n",
            " [  0 255 255 255 255 255 255 255 255 255]\n",
            " [  0 255 255   0 255 255 255 255 255   0]\n",
            " [255 255   0   0   0 255 255   0   0   0]\n",
            " [  0   0   0   0 255 255   0   0   0   0]]\n"
          ]
        },
        {
          "output_type": "display_data",
          "data": {
            "text/plain": [
              "<Figure size 432x288 with 1 Axes>"
            ],
            "image/png": "[encoded data removed]"
          },
          "metadata": {
            "needs_background": "light"
          }
        }
      ]
    },
    {
      "cell_type": "markdown",
      "source": [
        "## 05. Blurred Images"
      ],
      "metadata": {
        "id": "mQrJ4mN-DIFy"
      }
    },
    {
      "cell_type": "code",
      "source": [
        "#to blur the original images and write the new matrix\n",
        "\n",
        "F = (1/9)*np.ones((3,3))               # Filter สร้างเมมริกซ์ที่สมาชิกทุกตัวเป็น 1 ขนาด 3*3 แล้วคูณด้วย 1/9\n",
        "from scipy.signal import convolve2d\n",
        "\n",
        "c = convolve2d(A,F,mode='same') # ใส่รูปที่ต้องการเบลอ , ใส่ Filter , ขนาดเหมือนเดิมมั้ย\n",
        "# show blurred image\n",
        "\n",
        "\n",
        "plt.imshow(c , cmap='gray' , vmin = 0 , vmax= 255)\n",
        "\n"
      ],
      "metadata": {
        "colab": {
          "base_uri": "https://localhost:8080/",
          "height": 282
        },
        "id": "KXiUnO1EDJpB",
        "outputId": "0cc9738a-de78-4337-dd88-f723be8b8805"
      },
      "execution_count": null,
      "outputs": [
        {
          "output_type": "execute_result",
          "data": {
            "text/plain": [
              "<matplotlib.image.AxesImage at 0x7f48c738c8b0>"
            ]
          },
          "metadata": {},
          "execution_count": 11
        },
        {
          "output_type": "display_data",
          "data": {
            "text/plain": [
              "<Figure size 432x288 with 1 Axes>"
            ],
            "image/png": "[encoded data removed]"
          },
          "metadata": {
            "needs_background": "light"
          }
        }
      ]
    },
    {
      "cell_type": "code",
      "source": [
        "print('The matrix of blurred A is \\n ', c)"
      ],
      "metadata": {
        "colab": {
          "base_uri": "https://localhost:8080/"
        },
        "id": "PTDnt23YIPCQ",
        "outputId": "8dadf6fb-03d4-4a36-9e2b-3a85aa9c4395"
      },
      "execution_count": null,
      "outputs": [
        {
          "output_type": "stream",
          "name": "stdout",
          "text": [
            "The matrix of blurred A is \n",
            "  [[ 56.66666667 113.33333333 113.33333333  85.          56.66666667\n",
            "   56.66666667 113.33333333 141.66666667 170.         113.33333333]\n",
            " [ 85.         170.         170.         170.         113.33333333\n",
            "   85.         141.66666667 198.33333333 255.         170.        ]\n",
            " [ 56.66666667 113.33333333 141.66666667 170.         113.33333333\n",
            "   28.33333333  56.66666667 141.66666667 226.66666667 170.        ]\n",
            " [113.33333333 141.66666667 113.33333333 113.33333333  85.\n",
            "   28.33333333  28.33333333  85.         170.         141.66666667]\n",
            " [141.66666667 141.66666667  85.          28.33333333  28.33333333\n",
            "    0.          28.33333333  56.66666667 113.33333333  85.        ]\n",
            " [141.66666667 141.66666667  56.66666667   0.           0.\n",
            "    0.          28.33333333  28.33333333  56.66666667  28.33333333]\n",
            " [113.33333333 113.33333333  56.66666667  28.33333333  28.33333333\n",
            "    0.          28.33333333  28.33333333  56.66666667  28.33333333]\n",
            " [ 56.66666667  85.          85.         113.33333333  85.\n",
            "   28.33333333  28.33333333  56.66666667 113.33333333  85.        ]\n",
            " [ 85.         141.66666667 170.         170.         113.33333333\n",
            "   56.66666667  85.         141.66666667 198.33333333 141.66666667]\n",
            " [ 56.66666667 113.33333333 141.66666667 141.66666667  85.\n",
            "   56.66666667  85.         141.66666667 170.         113.33333333]]\n"
          ]
        }
      ]
    }
  ]
}