{
  "nbformat": 4,
  "nbformat_minor": 0,
  "metadata": {
    "colab": {
      "provenance": [],
      "authorship_tag": "ABX9TyMHm/h2+MsR6O95ylfzZ/zh",
      "include_colab_link": true
    },
    "kernelspec": {
      "name": "python3",
      "display_name": "Python 3"
    },
    "language_info": {
      "name": "python"
    }
  },
  "cells": [
    {
      "cell_type": "markdown",
      "metadata": {
        "id": "view-in-github",
        "colab_type": "text"
      },
      "source": [
        "<a href=\"https://colab.research.google.com/github/Pongpang-2102/Linear-Algebra-for-Data-Science_KDAI-Project/blob/main/Puriwat_KMITL_DSA_LR_Homework_1_(Class_5_Aug_22).ipynb\" target=\"_parent\"><img src=\"https://colab.research.google.com/assets/colab-badge.svg\" alt=\"Open In Colab\"/></a>"
      ]
    },
    {
      "cell_type": "markdown",
      "source": [
        "# Homework -1"
      ],
      "metadata": {
        "id": "r1tjIkgV5Dfy"
      }
    },
    {
      "cell_type": "markdown",
      "source": [
        "1. จงเขียนโปรแกรม random ตัวเลข 0 กับ 1 บรรจุใน list ไปจนกว่าจะเจอ 0 ติดกัน 3 ตัว เช่น\n",
        "[0, 1, 0, 1, 1, 1, 1, 1, 1, 1, 0, 0, 0]\n",
        "\n",
        "\n",
        "\n"
      ],
      "metadata": {
        "id": "ukl55RMd4-9l"
      }
    },
    {
      "cell_type": "markdown",
      "source": [
        "\n",
        "\n",
        "แต่ละข้อให้ capture หน้าจอ ให้เห็นตัว code, ผลการ run, account google ของคุณ, และ timestamp\n",
        "ถ้าโปรแกรมยาวก็ capture มาหลายรูปได้"
      ],
      "metadata": {
        "id": "w561-Ul656wR"
      }
    },
    {
      "cell_type": "code",
      "execution_count": null,
      "metadata": {
        "colab": {
          "base_uri": "https://localhost:8080/",
          "height": 235
        },
        "id": "vn8Du48s48rU",
        "outputId": "52697d61-5fce-41d2-eb2d-168c595cb1d9"
      },
      "outputs": [
        {
          "output_type": "error",
          "ename": "IndexError",
          "evalue": "ignored",
          "traceback": [
            "\u001b[0;31m---------------------------------------------------------------------------\u001b[0m",
            "\u001b[0;31mIndexError\u001b[0m                                Traceback (most recent call last)",
            "\u001b[0;32m<ipython-input-28-a08097422bc4>\u001b[0m in \u001b[0;36m<module>\u001b[0;34m()\u001b[0m\n\u001b[1;32m      9\u001b[0m \u001b[0;34m\u001b[0m\u001b[0m\n\u001b[1;32m     10\u001b[0m \u001b[0;32mfor\u001b[0m \u001b[0mi\u001b[0m \u001b[0;32min\u001b[0m \u001b[0mrange\u001b[0m\u001b[0;34m(\u001b[0m\u001b[0;36m100\u001b[0m\u001b[0;34m)\u001b[0m \u001b[0;34m:\u001b[0m\u001b[0;34m\u001b[0m\u001b[0;34m\u001b[0m\u001b[0m\n\u001b[0;32m---> 11\u001b[0;31m     \u001b[0;32mif\u001b[0m \u001b[0mlist_random_numbers\u001b[0m\u001b[0;34m[\u001b[0m\u001b[0mi\u001b[0m\u001b[0;34m]\u001b[0m \u001b[0;34m!=\u001b[0m \u001b[0;36m0\u001b[0m \u001b[0;32mand\u001b[0m  \u001b[0mlist_random_numbers\u001b[0m\u001b[0;34m[\u001b[0m\u001b[0mi\u001b[0m \u001b[0;34m-\u001b[0m \u001b[0;36m1\u001b[0m\u001b[0;34m]\u001b[0m \u001b[0;34m!=\u001b[0m \u001b[0;36m0\u001b[0m  \u001b[0;32mand\u001b[0m \u001b[0mlist_random_numbers\u001b[0m\u001b[0;34m[\u001b[0m\u001b[0mi\u001b[0m \u001b[0;34m-\u001b[0m \u001b[0;36m2\u001b[0m\u001b[0;34m]\u001b[0m \u001b[0;34m!=\u001b[0m \u001b[0;36m0\u001b[0m \u001b[0;34m:\u001b[0m\u001b[0;34m\u001b[0m\u001b[0;34m\u001b[0m\u001b[0m\n\u001b[0m\u001b[1;32m     12\u001b[0m         \u001b[0mrandom_integer\u001b[0m \u001b[0;34m=\u001b[0m \u001b[0mrandom\u001b[0m\u001b[0;34m.\u001b[0m\u001b[0mrandint\u001b[0m\u001b[0;34m(\u001b[0m\u001b[0;36m0\u001b[0m\u001b[0;34m,\u001b[0m\u001b[0;36m1\u001b[0m\u001b[0;34m)\u001b[0m\u001b[0;34m\u001b[0m\u001b[0;34m\u001b[0m\u001b[0m\n\u001b[1;32m     13\u001b[0m         \u001b[0mlist_random_numbers\u001b[0m\u001b[0;34m.\u001b[0m\u001b[0mappend\u001b[0m\u001b[0;34m(\u001b[0m\u001b[0mrandom_integer\u001b[0m\u001b[0;34m)\u001b[0m\u001b[0;34m\u001b[0m\u001b[0;34m\u001b[0m\u001b[0m\n",
            "\u001b[0;31mIndexError\u001b[0m: list index out of range"
          ]
        }
      ],
      "source": [
        "import random \n",
        "\n",
        "list_random_numbers = []\n",
        "new_list_with_3_zero = []\n",
        "count_zero = 0\n",
        "#while num_1 == num_2 and num_2 == num_3\n",
        "\n",
        "\n",
        "\n",
        "for i in range(100) : \n",
        "    if list_random_numbers[i] != 0 and  list_random_numbers[i - 1] != 0  and list_random_numbers[i - 2] != 0 :\n",
        "        random_integer = random.randint(0,1)\n",
        "        list_random_numbers.append(random_integer)\n",
        "\n",
        "    else :\n",
        "        print( list_random_numbers )\n",
        "        break\n",
        "\n",
        "\n",
        "\n",
        "    \n",
        "\n",
        "        \n",
        "\n",
        "print( list_random_numbers )\n",
        "\n"
      ]
    },
    {
      "cell_type": "code",
      "source": [
        "list_random_numbers = []\n",
        "new_list_with_3_zero = []\n",
        "\n",
        "for i in range(50):\n",
        "    random_integer = random.randint(0,1)\n",
        "    list_random_numbers.append(random_integer)\n",
        "\n",
        "print(list_random_numbers  )\n",
        "\n",
        "\n",
        "for number in list_random_numbers :\n",
        "    if list_random_numbers[number] != 0 and list_random_numbers[number - 1] != 0 and list_random_numbers[number -2] != 0 :\n",
        "        new_list_with_3_zero.append(number)\n",
        "\n",
        "\n",
        "            new_list_with_3_zero.append(num_1)\n",
        "            new_list_with_3_zero.append(num_2)\n",
        "            new_list_with_3_zero.append(num_3)\n",
        "            break\n",
        "        else :\n",
        "            new_list_with_3_zero.append(number)\n",
        "\n",
        "\n",
        "    else : \n",
        "        new_list_with_3_zero.append(number)\n",
        "        continue\n",
        "\n",
        "\n",
        "           \n",
        "            \n",
        "\n",
        "\n",
        "print(new_list_with_3_zero  )"
      ],
      "metadata": {
        "colab": {
          "base_uri": "https://localhost:8080/"
        },
        "id": "AuI_ubTB9fNZ",
        "outputId": "08f4f661-0258-4da4-e536-ee431dcce7cc"
      },
      "execution_count": null,
      "outputs": [
        {
          "output_type": "stream",
          "name": "stdout",
          "text": [
            "[1, 0, 1, 0, 1, 1, 1, 0, 0, 0, 0, 0, 0, 0, 0, 0, 0, 1, 1, 1, 0, 0, 1, 1, 1, 1, 1, 0, 1, 0, 0, 0, 1, 0, 0, 0, 0, 0, 1, 0, 1, 1, 0, 0, 1, 1, 0, 0, 0, 0]\n",
            "[1, 0, 1, 0, 1, 1, 1, 0, 0, 0, 0, 0, 0, 0, 0, 0, 0, 1, 1, 1, 0, 0, 1, 1, 1, 1, 1, 0, 1, 0, 0, 0, 1, 0, 0, 0, 0, 0, 1, 0, 1, 1, 0, 0, 1, 1, 0, 0, 0, 0]\n"
          ]
        }
      ]
    },
    {
      "cell_type": "markdown",
      "source": [
        "\n",
        "2. จงสร้างฟังก์ชันการคำนวณระยะระหว่างพิกัด (x1,y1) และ (x2,y2) โดยใช้สูตร Euclidean Distance\n",
        "จากนั้นให้เขียนโปรแกรมตามขั้นตอนต่อไปนี้\n",
        "รับค่าพิกัดของจำนวนจริง (x, y) มา 3 พิกัดให้ชื่อว่าพิกัด A, B และ C\n",
        "คำนวณระยะระหว่างพิกัดทั้งสามแล้ว print ออกมาทีละคู่ ด้วยข้อความ \"Distance between A and B is ...\"\n",
        "เปรียบเทียบระยะของทั้งสามคู่ แล้วแสดงผลคู่ที่ทีระยะสั้นที่สุด ด้วยข้อความ \"The shortest path is between ... and ...\""
      ],
      "metadata": {
        "id": "FKQRAluB5Dgx"
      }
    },
    {
      "cell_type": "code",
      "source": [
        "# our program separated to 3 parts\n",
        "\n",
        "# 01 start with definde function for receive input value\n",
        "\n",
        "def calculate_euc_distance() :\n",
        "\n",
        "    print(\"Please input (x,y) for point A \")\n",
        "    x_A = float(  input(\"Please enter x : \")  )\n",
        "    y_A = float(  input(\"Please enter y : \")   )\n",
        "    print(\"-----------------------------------------------\")\n",
        "    print(\"Please input (x,y) for point B \")\n",
        "    x_B = float(  input(\"Please enter x : \")   )\n",
        "    y_B = float(  input(\"Please enter y : \")   )\n",
        "    print(\"-----------------------------------------------\")\n",
        "    print(\"Please input (x,y) for point C \")\n",
        "    x_C = float(  input(\"Please enter x : \")  )\n",
        "    y_C = float(  input(\"Please enter y : \")  )\n",
        "\n",
        "# 02 How to calculate in Euclidian Distance    \n",
        "\n",
        "    distance_A_B =  round(  (  ( x_A - x_B ) ** 2 + ( y_A - y_B ) ** 2 ) ** 0.5 , 3)\n",
        "    distance_B_C =  round(  (  ( x_B - x_C ) ** 2 + ( y_B - y_C ) ** 2 ) ** 0.5 , 3)\n",
        "    distance_C_A =  round(  (  ( x_C - x_A ) ** 2 + ( y_C - y_A ) ** 2 ) ** 0.5 , 3)\n",
        "    min_distance = min(distance_A_B , distance_B_C , distance_C_A )\n",
        "    print(\"-----------------------------------------------\")\n",
        "\n",
        "    print(f\"Distance between A and B is {distance_A_B}\\n\"\n",
        "          f\"Distance between B and C is {distance_B_C}\\n\"\n",
        "          f\"Distance between C and E is {distance_C_A}\\n\"  )   \n",
        "    print(\"-----------------------------------------------\")\n",
        "\n",
        "# 03 How to find the shortest part\n",
        "  \n",
        "    if min_distance == distance_A_B :\n",
        "        print(\"The shortest path is between A and B\")\n",
        "\n",
        "    elif min_distance == distance_B_C :\n",
        "        print(\"The shortest path is between B and C\")\n",
        "\n",
        "    elif min_distance == distance_C_A :\n",
        "        print(\"The shortest path is between C and A\")\n",
        "\n",
        "    elif min_distance == distance_A_B and min_distance == distance_B_C : \n",
        "        print(\"The shortest path is between A and B or B and C\")\n",
        "\n",
        "    elif min_distance == distance_B_C and min_distance == distance_C_A : \n",
        "        print(\"The shortest path is between B and C or C and A\")\n",
        "\n",
        "\n",
        "    \n"
      ],
      "metadata": {
        "id": "oC6HsiRk5Awv"
      },
      "execution_count": null,
      "outputs": []
    },
    {
      "cell_type": "code",
      "source": [
        "# call function , input value and wait to see the summary\n",
        "calculate_euc_distance()"
      ],
      "metadata": {
        "colab": {
          "base_uri": "https://localhost:8080/"
        },
        "id": "7nCgsnZV57MC",
        "outputId": "3155aed5-4228-4b90-e83b-eec64156b191"
      },
      "execution_count": null,
      "outputs": [
        {
          "output_type": "stream",
          "name": "stdout",
          "text": [
            "Please input (x,y) for point A \n",
            "Please enter x : -10\n",
            "Please enter y : 5\n",
            "-----------------------------------------------\n",
            "Please input (x,y) for point B \n",
            "Please enter x : 7\n",
            "Please enter y : 2\n",
            "-----------------------------------------------\n",
            "Please input (x,y) for point C \n",
            "Please enter x : 8\n",
            "Please enter y : 10\n",
            "-----------------------------------------------\n",
            "Distance between A and B is 17.263\n",
            "Distance between B and C is 8.062\n",
            "Distance between C and E is 18.682\n",
            "\n",
            "-----------------------------------------------\n",
            "The shortest path is between B and C\n"
          ]
        }
      ]
    }
  ]
}